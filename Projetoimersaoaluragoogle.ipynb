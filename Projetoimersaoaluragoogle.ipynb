{
  "nbformat": 4,
  "nbformat_minor": 0,
  "metadata": {
    "colab": {
      "provenance": [],
      "authorship_tag": "ABX9TyMcbieoKfEyQqi65BJ/sRDQ",
      "include_colab_link": true
    },
    "kernelspec": {
      "name": "python3",
      "display_name": "Python 3"
    },
    "language_info": {
      "name": "python"
    }
  },
  "cells": [
    {
      "cell_type": "markdown",
      "metadata": {
        "id": "view-in-github",
        "colab_type": "text"
      },
      "source": [
        "<a href=\"https://colab.research.google.com/github/mabrezende/LLM_First/blob/main/Projetoimersaoaluragoogle.ipynb\" target=\"_parent\"><img src=\"https://colab.research.google.com/assets/colab-badge.svg\" alt=\"Open In Colab\"/></a>"
      ]
    },
    {
      "cell_type": "markdown",
      "source": [
        "Criando um chatbot que tira dúvidas sobre IA. Para ser disponibilizado nas escolas para os estudantes do ensino fudamental."
      ],
      "metadata": {
        "id": "_IMGxTefe9XV"
      }
    },
    {
      "cell_type": "code",
      "execution_count": null,
      "metadata": {
        "colab": {
          "base_uri": "https://localhost:8080/"
        },
        "id": "MQcoLTzTdHZn",
        "outputId": "3aceb16a-5974-46cc-9351-9ee2b412bb51"
      },
      "outputs": [
        {
          "output_type": "stream",
          "name": "stdout",
          "text": [
            "Olá! Sou um chat bot de IA. Pergunte-me sobre inteligência artificial.\n"
          ]
        }
      ],
      "source": [
        "import random\n",
        "\n",
        "# Base de conhecimento com perguntas e respostas sobre IA\n",
        "base_de_conhecimento = {\n",
        "    \"O que é IA?\": [\n",
        "        \"Inteligência artificial (IA) é a capacidade de um computador ou máquina de imitar a inteligência humana, aprendendo com experiências, adaptando-se a novas informações e realizando tarefas como seres humanos.\",\n",
        "        \"IA é um campo da ciência da computação que se concentra na criação de máquinas inteligentes que funcionam e reagem como humanos.\",\n",
        "        \"Em termos simples, IA é a capacidade de uma máquina de pensar e aprender como um ser humano.\",\n",
        "        \"A Inteligência Artificial refere-se à capacidade de máquinas ou softwares realizarem tarefas que, historicamente, exigiriam a inteligência humana. Essas tarefas incluem aprendizado, raciocínio, reconhecimento de padrões, resolução de problemas e tomada de decisões.\",\n",
        "    ],\n",
        "    \"Quais são os tipos de IA?\": [\n",
        "        \"Existem vários tipos de IA, incluindo aprendizado de máquina, aprendizado profundo, processamento de linguagem natural (PNL) e visão computacional.\",\n",
        "        \"IA pode ser categorizada como IA estreita (ANI), IA geral (AGI) e superinteligência artificial (ASI).\"\n",
        "    ],\n",
        "    \"Quais são as aplicações da IA?\": [\n",
        "        \"IA tem uma vasta gama de aplicações, incluindo carros autônomos, assistentes virtuais, diagnóstico médico, detecção de fraudes e muito mais.\",\n",
        "        \"IA está sendo usada em vários setores, como saúde, finanças, educação e transporte.\"\n",
        "    ],\n",
        "    \"Quais são os benefícios da IA?\": [\n",
        "        \"IA pode automatizar tarefas, melhorar a tomada de decisões, aumentar a eficiência e criar novas oportunidades.\",\n",
        "        \"IA pode ajudar a resolver problemas complexos e melhorar a qualidade de vida.\"\n",
        "    ],\n",
        "    \"Quais são os riscos da IA?\": [\n",
        "        \"Alguns riscos potenciais da IA incluem perda de empregos, vieses algorítmicos e uso indevido para atividades maliciosas.\",\n",
        "        \"É importante usar IA de forma responsável e ética para mitigar os riscos.\"\n",
        "    ],\n",
        "    \"O que é Inteligência Artificial?\": [\n",
        "        \"A Inteligência Artificial refere-se à capacidade de máquinas ou softwares realizarem tarefas que, historicamente, exigiriam a inteligência humana. Essas tarefas incluem aprendizado, raciocínio, reconhecimento de padrões, resolução de problemas e tomada de decisões.\",\n",
        "        \"Inteligência artificial (IA) é a capacidade de um computador ou máquina de imitar a inteligência humana, aprendendo com experiências, adaptando-se a novas informações e realizando tarefas como seres humanos.\",\n",
        "        \"IA é um campo da ciência da computação que se concentra na criação de máquinas inteligentes que funcionam e reagem como humanos.\",\n",
        "        \"Em termos simples, IA é a capacidade de uma máquina de pensar e aprender como um ser humano.\",\n",
        "    ],\n",
        "    \"Como a Inteligência Artificial aprende?\": [\n",
        "        \"A Inteligência Artificial aprende através de algoritmos e modelos que processam grandes volumes de dados. Existem dois tipos principais de aprendizado: supervisionado, em que o sistema é treinado com dados rotulados; e não supervisionado, em que a IA identifica padrões por conta própria.\",\n",
        "    ],\n",
        "    \"Quais são os tipos de Inteligência Artificial?\": [\n",
        "        \"A Inteligência Artificial (IA) podem ser divididas em três. A IA estreita, também conhecida como fraca, concentra-se em tarefas específicas, como reconhecimento de voz ou análise de dados. Esta categoria é a mais comum na atualidade, sendo amplamente aplicada em setores como saúde e finanças. Em contraste, a IA geral, ou forte, é concebida para igualar a inteligência humana em todas as áreas, realizando uma ampla gama de tarefas de maneira autônoma. Este nível de IA ainda é um desafio em desenvolvimento. Por fim, a superinteligência representa uma fronteira hipotética em que a IA supera as capacidades humanas em todos os aspectos.\",\n",
        "    ],\n",
        "    \"Quais são as aplicações práticas da IA?\": [\n",
        "        \"A Inteligência Artificial tem inúmeras aplicações em setores como saúde, finanças, educação, transporte e muito mais. Ela impulsiona chatbots, assistentes virtuais, diagnósticos médicos avançados, sistemas de recomendação e carros autônomos, para citar apenas alguns exemplos.\",\n",
        "    ],\n",
        "    \"Como a Inteligência Artificial impacta a sociedade?\": [\n",
        "        \"A IA tem o potencial de otimizar processos, aumentar a eficiência e resolver problemas complexos. No entanto, também levanta questões éticas, como privacidade, automação de empregos e viés algorítmico, exigindo discussões contínuas e regulamentações adequadas.\",\n",
        "    ],\n",
        "    \"O que é Aprendizado Profundo (Deep Learning)?\": [\n",
        "        \"O Aprendizado Profundo é uma subcategoria de Inteligência Artificial baseada em redes neurais artificiais profundas. Essas redes, inspiradas no funcionamento do cérebro humano, são capazes de aprender representações complexas de dados, sendo essenciais para avanços em reconhecimento de imagem, fala e processamento de linguagem natural.\",\n",
        "    ],\n",
        "    \"Como a Inteligência Artificial enfrenta desafios éticos?\": [\n",
        "        \"Questões éticas na IA incluem a responsabilidade por decisões automáticas, viés algorítmico, transparência e segurança. A sociedade está cada vez mais consciente desses desafios, pressionando por abordagens éticas no desenvolvimento e implementação de sistemas de IA.\",\n",
        "    ],\n",
        "    \"Qual é o papel da IA na Medicina?\": [\n",
        "        \"Na medicina, a Inteligência Artificial pode ser usada para diagnósticos mais rápidos e precisos, análise de imagens médicas, descoberta de medicamentos e personalização de tratamentos. Ela promete transformar a saúde, melhorando a eficácia dos cuidados e reduzindo custos.\",\n",
        "    ],\n",
        "    \"Como a IA contribui para a segurança cibernética?\": [\n",
        "        \"A IA fortalece a segurança cibernética ao identificar padrões de comportamento malicioso, detectar ameaças em tempo real e automatizar respostas a ataques. É uma ferramenta crucial na defesa contra a crescente complexidade das ameaças online.\",\n",
        "    ],\n",
        "    \"A IA Pode Substituir Empregos?\": [\n",
        "        \"Embora a automação impulsionada pela Inteligência Artificial possa substituir alguns empregos, também cria novas oportunidades. A requalificação da força de trabalho e o foco em habilidades exclusivamente humanas, como criatividade e empatia, tornam-se vitais para uma transição suave nesse cenário.\",\n",
        "    ],\n",
        "    \"Como a IA está presente em dispositivos do Dia a Dia?\": [\n",
        "        \"Assistentes virtuais como Siri e Alexa, recomendações de produtos online, sistemas de reconhecimento facial em smartphones e algoritmos de sugestão de conteúdo em redes sociais são exemplos de como a IA está integrada em nossas vidas diárias.\",\n",
        "    ],\n",
        "    \"A IA pode ser desenvolvida de forma consciente?\": [\n",
        "        \"Desenvolver IA consciente, dotada de consciência e intencionalidade, é uma questão filosófica complexa. Até agora, a Inteligência Artificial é projetada para realizar tarefas específicas sem consciência ou intenções próprias.\",\n",
        "    ],\n",
        "    \"Quais são os desafios futuros da Inteligência Artificial?\": [\n",
        "        \"Desafios futuros incluem a criação de uma IA mais transparente e explicável, abordagem eficaz de problemas éticos e legais, além da necessidade de regulamentações robustas para garantir o uso responsável da tecnologia.\",\n",
        "    ],\n",
        "    \"O que esperar do futuro da Inteligência Artificial?\": [\n",
        "        \"O futuro da IA promete avanços notáveis em assistência médica, educação, automação e inovação em geral. Ao mesmo tempo, a sociedade deve estar atenta aos desafios éticos e garantir que a IA seja uma força positiva para o bem comum.\",\n",
        "    ]\n",
        "}\n",
        "\n",
        "def responder(pergunta):\n",
        "  \"\"\"\n",
        "  Retorna uma resposta da base de conhecimento ou uma mensagem padrão.\n",
        "  \"\"\"\n",
        "  pergunta = pergunta.lower()  # Converter a pergunta para minúsculas\n",
        "  for chave in base_de_conhecimento:\n",
        "    if chave.lower() in pergunta:\n",
        "      return random.choice(base_de_conhecimento[chave])\n",
        "  return \"Desculpe, não entendi sua pergunta. Você pode reformulá-la?\"\n",
        "\n",
        "# Loop principal do chat bot\n",
        "print(\"Olá! Sou um chat bot de IA. Pergunte-me sobre inteligência artificial.\")\n",
        "while True:\n",
        "  pergunta = input(\"Você: \")\n",
        "  if pergunta.lower() == \"sair\":\n",
        "    break\n",
        "  resposta = responder(pergunta)\n",
        "  print(\"Chat Bot:\", resposta)"
      ]
    }
  ]
}